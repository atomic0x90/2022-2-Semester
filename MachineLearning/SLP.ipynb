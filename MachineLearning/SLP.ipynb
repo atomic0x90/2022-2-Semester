import torch
import torch.nn as nn
import torchvision.datasets as dataset
import torchvision.transforms as transform
from torch.utils.data import DataLoader

datasetPath = "./drive/MyDrive/dataset"
parameterPath = "./drive/MyDrive/parameters"

mnist_train = dataset.MNIST(root = datasetPath,
                            train = True,
                            transform = transform.ToTensor(),
                            download = True)
mnist_test = dataset.MNIST(root = datasetPath,
                           train = False,
                           transform = transform.ToTensor(),
                           download = True)

import matplotlib.pyplot as plt
print(len(mnist_train))

first_data = mnist_train[0]
print(first_data[0].shape)
print(first_data[1])

plt.imshow(first_data[0][0,:,:],cmap='gray')
plt.show


first_img = first_data[0]
print(first_img.shape)
first_img = first_img.view(-1,28*28)
print(first_img.shape)

class SLP(nn.Module):
  def __init__(self):
    super(SLP,self).__init__()
    self.fc = nn.Linear(in_features=784,out_features=10)
  def forward(self,x):
    x = x.view(-1,28*28)
    y = self.fc(x)
    return y

batch_size = 100
learning_rate = 0.1
training_epochs = 15
loss_function = nn.CrossEntropyLoss()
network = SLP()
optimizer = torch.optim.SGD(network.parameters(),lr = learning_rate)
data_loader = DataLoader(dataset = mnist_train,
                         batch_size = batch_size,
                         shuffle=True,
                         drop_last=True)

for epoch in range(training_epochs):
  avg_cost = 0
  total_batch = len(data_loader)
  for img,label in data_loader:
    pred = network(img)
    loss = loss_function(pred,label)
    optimizer.zero_grad()
    loss.backward()
    optimizer.step()

    avg_cost += loss / total_batch
  print("Epoch: %d Loss = %f"%(epoch+1,avg_cost))
print("Learning finished")

torch.save(network.state_dict(),parameterPath+"slp_mnist.pth")

new_network = SLP()
new_network.load_state_dict(torch.load(parameterPath+"slp_mnist.pth"))

with torch.no_grad():
  img_test = mnist_test.data.float()
  label_test = mnist_test.targets
  prediction = network(img_test)

  correct_prediction = torch.argmax(prediction,1) == label_test
  accuracy = correct_prediction.float().mean()
  print("Accuracy:",accuracy.item())

